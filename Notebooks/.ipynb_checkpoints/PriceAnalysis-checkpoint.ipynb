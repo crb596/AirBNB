{
 "cells": [
  {
   "cell_type": "code",
   "execution_count": 1,
   "id": "78ca92c7",
   "metadata": {},
   "outputs": [
    {
     "name": "stdout",
     "output_type": "stream",
     "text": [
      "done loading data\n"
     ]
    }
   ],
   "source": [
    "# First open up the dataset and load it into np\n",
    "\n",
    "import numpy as np\n",
    "import csv\n",
    "\n",
    "dataPath = 'Dataset/listings.csv'\n",
    "\n",
    "with open(dataPath, 'r') as fp:\n",
    "    reader = csv.reader(fp, delimiter=',')\n",
    "    headers = next(reader)\n",
    "    data = np.array(list(reader))\n",
    "    \n",
    "print(\"done loading data\")"
   ]
  },
  {
   "cell_type": "code",
   "execution_count": 2,
   "id": "8e978f2b",
   "metadata": {},
   "outputs": [
    {
     "name": "stdout",
     "output_type": "stream",
     "text": [
      "Got all listings in Manhattan\n"
     ]
    }
   ],
   "source": [
    "# Filter only Manhattan to test\n",
    "manhattanData = []\n",
    "for i in range(len(data)):\n",
    "    point = data[i]\n",
    "    if(point[28] == 'Manhattan'):\n",
    "        manhattanData.append(point)\n",
    "\n",
    "print(\"Got all listings in Manhattan\")"
   ]
  },
  {
   "cell_type": "code",
   "execution_count": 11,
   "id": "d2e72533",
   "metadata": {},
   "outputs": [
    {
     "name": "stdout",
     "output_type": "stream",
     "text": [
      "Done\n"
     ]
    }
   ],
   "source": [
    "import re\n",
    "# Build a np array of location, price, and size of the house\n",
    "\n",
    "np.zeros((len(manhattanData), 7))\n",
    "ar = []\n",
    "\n",
    "for i in range(len(manhattanData)):\n",
    "    try:\n",
    "        if(len(manhattanData[i][29]) != 0 and len(manhattanData[i][30]) != 0 and len(manhattanData[i][39]) != 0 and len(manhattanData[i][33]) != 0 and len(manhattanData[i][35]) != 0 and len(manhattanData[i][36]) != 0 and len(manhattanData[i][37]) != 0):\n",
    "            ar.append([float(manhattanData[i][29]), \n",
    "                       float(manhattanData[i][30]),\n",
    "                       int(re.findall(\"\\d+\\.\\d+|\\d+\", manhattanData[i][33])[0]),\n",
    "                       int(re.findall(\"\\d+\\.\\d+|\\d+\", manhattanData[i][35])[0]),\n",
    "                       int(re.findall(\"\\d+\\.\\d+|\\d+\", manhattanData[i][36])[0]), \n",
    "                       int(re.findall(\"\\d+\\.\\d+|\\d+\", manhattanData[i][37])[0]),\n",
    "                       float((manhattanData[i][39]).replace('$','').replace(',',''))])\n",
    "    except:\n",
    "        pass\n",
    "    \n",
    "sizeData = np.array(ar)\n",
    "print(\"Done\")"
   ]
  },
  {
   "cell_type": "code",
   "execution_count": 4,
   "id": "7da51bef",
   "metadata": {},
   "outputs": [
    {
     "name": "stdout",
     "output_type": "stream",
     "text": [
      "done\n",
      "Epoch 1/25\n"
     ]
    },
    {
     "name": "stderr",
     "output_type": "stream",
     "text": [
      "2022-05-01 23:50:11.003776: I tensorflow/core/platform/cpu_feature_guard.cc:151] This TensorFlow binary is optimized with oneAPI Deep Neural Network Library (oneDNN) to use the following CPU instructions in performance-critical operations:  AVX2 FMA\n",
      "To enable them in other operations, rebuild TensorFlow with the appropriate compiler flags.\n"
     ]
    },
    {
     "name": "stdout",
     "output_type": "stream",
     "text": [
      "44/44 [==============================] - 1s 9ms/step - loss: 66.8864 - val_loss: 43.5543\n",
      "Epoch 2/25\n",
      "44/44 [==============================] - 0s 8ms/step - loss: 41.0777 - val_loss: 41.6443\n",
      "Epoch 3/25\n",
      "44/44 [==============================] - 0s 7ms/step - loss: 40.6847 - val_loss: 41.2502\n",
      "Epoch 4/25\n",
      "44/44 [==============================] - 0s 6ms/step - loss: 40.4110 - val_loss: 40.8865\n",
      "Epoch 5/25\n",
      "44/44 [==============================] - 0s 6ms/step - loss: 40.2404 - val_loss: 40.6554\n",
      "Epoch 6/25\n",
      "44/44 [==============================] - 0s 6ms/step - loss: 40.2560 - val_loss: 40.5154\n",
      "Epoch 7/25\n",
      "44/44 [==============================] - 1s 15ms/step - loss: 40.1321 - val_loss: 40.6027\n",
      "Epoch 8/25\n",
      "44/44 [==============================] - 0s 10ms/step - loss: 40.0566 - val_loss: 40.4455\n",
      "Epoch 9/25\n",
      "44/44 [==============================] - 0s 6ms/step - loss: 40.0235 - val_loss: 40.4916\n",
      "Epoch 10/25\n",
      "44/44 [==============================] - 0s 7ms/step - loss: 40.0417 - val_loss: 40.3805\n",
      "Epoch 11/25\n",
      "44/44 [==============================] - 0s 6ms/step - loss: 39.9197 - val_loss: 40.2911\n",
      "Epoch 12/25\n",
      "44/44 [==============================] - 1s 15ms/step - loss: 39.9697 - val_loss: 40.2912\n",
      "Epoch 13/25\n",
      "44/44 [==============================] - 0s 6ms/step - loss: 39.9355 - val_loss: 40.3184\n",
      "Epoch 14/25\n",
      "44/44 [==============================] - 0s 6ms/step - loss: 39.9044 - val_loss: 40.2271\n",
      "Epoch 15/25\n",
      "44/44 [==============================] - 0s 7ms/step - loss: 39.9564 - val_loss: 40.3675\n",
      "Epoch 16/25\n",
      "44/44 [==============================] - 0s 6ms/step - loss: 40.2398 - val_loss: 40.5349\n",
      "Epoch 17/25\n",
      "44/44 [==============================] - 0s 9ms/step - loss: 40.0012 - val_loss: 40.2615\n",
      "Epoch 18/25\n",
      "44/44 [==============================] - 0s 7ms/step - loss: 39.9638 - val_loss: 40.2022\n",
      "Epoch 19/25\n",
      "44/44 [==============================] - 0s 6ms/step - loss: 39.8960 - val_loss: 40.2527\n",
      "Epoch 20/25\n",
      "44/44 [==============================] - 1s 19ms/step - loss: 39.8825 - val_loss: 40.3014\n",
      "Epoch 21/25\n",
      "44/44 [==============================] - 0s 10ms/step - loss: 39.8827 - val_loss: 40.1216\n",
      "Epoch 22/25\n",
      "44/44 [==============================] - 0s 7ms/step - loss: 40.1433 - val_loss: 40.8395\n",
      "Epoch 23/25\n",
      "44/44 [==============================] - 0s 6ms/step - loss: 39.9633 - val_loss: 40.3400\n",
      "Epoch 24/25\n",
      "44/44 [==============================] - 0s 8ms/step - loss: 39.8593 - val_loss: 40.1106\n",
      "Epoch 25/25\n",
      "44/44 [==============================] - 0s 7ms/step - loss: 39.9313 - val_loss: 40.0771\n"
     ]
    }
   ],
   "source": [
    "# Build Keras Neural Net showing price estimate disregarding location\n",
    "t = sizeData[:,6]\n",
    "x = sizeData[:,2:6]\n",
    "\n",
    "# Occupants, baths, bedrooms, beds\n",
    "\n",
    "# First normalize data\n",
    "from sklearn.preprocessing import StandardScaler\n",
    "sc = StandardScaler()\n",
    "# x = sc.fit_transform(x)\n",
    "\n",
    "# Split into training and test set\n",
    "from sklearn.model_selection import train_test_split\n",
    "x_train, x_test, t_train, t_test = train_test_split(x,t,test_size=0.1)\n",
    "\n",
    "# Build Neural Net\n",
    "import keras\n",
    "from keras.models import Sequential\n",
    "from keras.layers import Dense\n",
    "\n",
    "model = Sequential()\n",
    "model.add(Dense(256,input_dim=4, activation='relu'))\n",
    "model.add(Dense(256, activation='relu'))\n",
    "model.add(Dense(128, activation='relu'))\n",
    "model.add(Dense(128, activation='relu'))\n",
    "model.add(Dense(64, activation='relu'))\n",
    "model.add(Dense(1, activation='linear'))\n",
    "\n",
    "# Compile\n",
    "model.compile(loss='mean_absolute_percentage_error', optimizer='adam')\n",
    "\n",
    "print(\"done\")\n",
    "\n",
    "history = model.fit(x_train, t_train, epochs=25, batch_size=256, validation_data = (x_test, t_test), verbose = 1)"
   ]
  },
  {
   "cell_type": "code",
   "execution_count": 5,
   "id": "a72fa206",
   "metadata": {},
   "outputs": [
    {
     "data": {
      "text/plain": [
       "<function matplotlib.pyplot.show(close=None, block=None)>"
      ]
     },
     "execution_count": 5,
     "metadata": {},
     "output_type": "execute_result"
    },
    {
     "data": {
      "image/png": "[encoded data removed]",
      "text/plain": [
       "<Figure size 432x288 with 1 Axes>"
      ]
     },
     "metadata": {
      "needs_background": "light"
     },
     "output_type": "display_data"
    }
   ],
   "source": [
    "import matplotlib.pyplot as plt\n",
    "plt.plot(history.history['loss'], c='r')\n",
    "plt.plot(history.history['val_loss'], c='b')\n",
    "plt.show"
   ]
  },
  {
   "cell_type": "code",
   "execution_count": 6,
   "id": "37fe8a11",
   "metadata": {},
   "outputs": [
    {
     "name": "stdout",
     "output_type": "stream",
     "text": [
      "[[1. 1. 1. 1.]]\n",
      "tf.Tensor([[59.588425]], shape=(1, 1), dtype=float32)\n"
     ]
    }
   ],
   "source": [
    "testPoint = np.ones((1,4))\n",
    "testPoint[0][0] = 1\n",
    "testPoint[0][1] = 1\n",
    "testPoint[0][2] = 1\n",
    "testPoint[0][3] = 1\n",
    "print(testPoint)\n",
    "result = model(testPoint)\n",
    "print(result)"
   ]
  },
  {
   "cell_type": "code",
   "execution_count": 7,
   "id": "790a2322",
   "metadata": {},
   "outputs": [],
   "source": [
    "# Adding weight to a listings location\n",
    "\n",
    "# Function to get distance value of a cord from a reference cord, the reference cord will be max val and the further away the quicker it drops off\n",
    "import math\n",
    "\n",
    "def calcDistance(refLat, refLng, targetLat, targetLng):\n",
    "    R = 6371e3 #metres\n",
    "    φ1 = targetLat * math.pi/180 # φ, λ in radians\n",
    "    φ2 = refLat * math.pi/180\n",
    "    Δφ = (refLat-targetLat) * math.pi/180\n",
    "    Δλ = (refLng-targetLng) * math.pi/180\n",
    "\n",
    "    a = math.sin(Δφ/2) * math.sin(Δφ/2) + math.cos(φ1) * math.cos(φ2) * math.sin(Δλ/2) * math.sin(Δλ/2)\n",
    "    c = 2 * math.atan2(math.sqrt(a), math.sqrt(1-a))\n",
    "\n",
    "    d = R * c #in metres\n",
    "    return d\n",
    "\n",
    "# Return the distance weight, \n",
    "# dist is how far from the original point \n",
    "# maxVal is the value returned at distance from point = 0\n",
    "# falloff is how fast the returned value approaches 0, has to be below 1, greater than 0, closer to 0 is faster falloff\n",
    "def calcDistanceWeight(dist, maxVal, falloff):\n",
    "    return math.exp(-(falloff) * dist)*maxVal"
   ]
  },
  {
   "cell_type": "code",
   "execution_count": 56,
   "id": "3166c1ed",
   "metadata": {},
   "outputs": [
    {
     "name": "stdout",
     "output_type": "stream",
     "text": [
      "40.75864\n",
      "-73.96528\n"
     ]
    }
   ],
   "source": [
    "# Get first MAX_LISTINGS or listings within a distance\n",
    "\n",
    "MAX_LISTINGS = 10000\n",
    "distance = np.zeros((len(sizeData),1))\n",
    "distanceArray = np.hstack((distance,sizeData))\n",
    "testLat = -73.96528\n",
    "testLong = 40.75864\n",
    "# Add distance from sample location as a column\n",
    "for i in range(len(distanceArray)):\n",
    "    distanceArray[i][0] = calcDistance(testLat, testLong, distanceArray[i][2], distanceArray[i][1])\n",
    "\n",
    "sortedDistanceArray = distanceArray[distanceArray[:, 0].argsort()]\n",
    "\n",
    "print(sortedDistanceArray[0][1])\n",
    "print(sortedDistanceArray[0][2])"
   ]
  }
 ],
 "metadata": {
  "kernelspec": {
   "display_name": "Python 3 (ipykernel)",
   "language": "python",
   "name": "python3"
  },
  "language_info": {
   "codemirror_mode": {
    "name": "ipython",
    "version": 3
   },
   "file_extension": ".py",
   "mimetype": "text/x-python",
   "name": "python",
   "nbconvert_exporter": "python",
   "pygments_lexer": "ipython3",
   "version": "3.9.7"
  }
 },
 "nbformat": 4,
 "nbformat_minor": 5
}
